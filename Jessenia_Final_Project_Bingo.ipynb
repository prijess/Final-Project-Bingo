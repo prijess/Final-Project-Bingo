{
  "nbformat": 4,
  "nbformat_minor": 0,
  "metadata": {
    "colab": {
      "provenance": [],
      "authorship_tag": "ABX9TyM1TY1E4ijcV/0oC+cMm29/",
      "include_colab_link": true
    },
    "kernelspec": {
      "name": "python3",
      "display_name": "Python 3"
    },
    "language_info": {
      "name": "python"
    }
  },
  "cells": [
    {
      "cell_type": "markdown",
      "metadata": {
        "id": "view-in-github",
        "colab_type": "text"
      },
      "source": [
        "<a href=\"https://colab.research.google.com/github/prijess/reverie/blob/main/Jessenia_Final_Project_Bingo.ipynb\" target=\"_parent\"><img src=\"https://colab.research.google.com/assets/colab-badge.svg\" alt=\"Open In Colab\"/></a>"
      ]
    },
    {
      "cell_type": "markdown",
      "source": [
        "#**Bingo**\n",
        "This is a bingo game system that you can use per what you need.<br>If you only need the callout, just run the callout.<br>If you need the card generation as well, you can run the card generation.<br>If you want to check here if you win? Run the bingo checking cell. <br><br> You can use the cell as itself, but it is *advised to run the first two system.*"
      ],
      "metadata": {
        "id": "9bALETVWsjFF"
      }
    },
    {
      "cell_type": "markdown",
      "source": [
        "**Bingo Number Callout System**<br>Please run this system."
      ],
      "metadata": {
        "id": "Ca8yLsmdsiwv"
      }
    },
    {
      "cell_type": "code",
      "source": [
        "import random\n",
        "\n",
        "def callout(called):\n",
        "  while True:\n",
        "    called_number = random.randint(1, 75)  # create a random number callout in the range of 1-75\n",
        "    if called_number not in called:\n",
        "      called.append(called_number)\n",
        "      break\n",
        "\n",
        "#limitation for formatting\n",
        "  if 1 <= called_number <= 15:\n",
        "      letter = \"B\"\n",
        "  elif 16 <= called_number <= 30:\n",
        "      letter = \"I\"\n",
        "  elif 31 <= called_number <= 45:\n",
        "      letter = \"N\"\n",
        "  elif 46 <= called_number <= 60:\n",
        "      letter = \"G\"\n",
        "  else:\n",
        "      letter = \"O\"\n",
        "\n",
        "  formatted_callout = f\"{letter} {called_number}\" #the formatting\n",
        "  return called_number, formatted_callout"
      ],
      "metadata": {
        "id": "o6jSUHhFU1nv"
      },
      "execution_count": 39,
      "outputs": []
    },
    {
      "cell_type": "markdown",
      "source": [
        "**Bingo Card Generator System**<br>Please run this system."
      ],
      "metadata": {
        "id": "z1l4O9WftjTH"
      }
    },
    {
      "cell_type": "code",
      "source": [
        "import random\n",
        "\n",
        "def generate_bingo_card(card, column_ranges):\n",
        "    if not column_ranges:\n",
        "        return card\n",
        "\n",
        "    column_name, (start, end) = column_ranges[0]\n",
        "\n",
        "    numbers = random.sample(range(start, end + 1), 5)  # Get 5 unique numbers\n",
        "    card[column_name] = numbers\n",
        "\n",
        "    return generate_bingo_card(card, column_ranges[1:])\n",
        "\n",
        "# Usage:\n",
        "column_ranges = [\n",
        "    (\"B\", (1, 15)),\n",
        "    (\"I\", (16, 30)),\n",
        "    (\"N\", (31, 45)),\n",
        "    (\"G\", (46, 60)),\n",
        "    (\"O\", (61, 75)),\n",
        "]"
      ],
      "metadata": {
        "id": "tihw8ofCqnNX"
      },
      "execution_count": 40,
      "outputs": []
    },
    {
      "cell_type": "markdown",
      "source": [
        "**Play The Game!**<br>\n",
        "1. Generate your Bingo Card!<br> By running the generate function that has already been defined on **Bingo Card Generator System**"
      ],
      "metadata": {
        "id": "Fne08iP7BBk4"
      }
    },
    {
      "cell_type": "code",
      "source": [
        "import time\n",
        "\n",
        "random.seed(time.time())  #randomize the number in each run\n",
        "\n",
        "card = {}\n",
        "generate_bingo_card(card, column_ranges)"
      ],
      "metadata": {
        "id": "RTtJP46jzLiX",
        "collapsed": true,
        "colab": {
          "base_uri": "https://localhost:8080/"
        },
        "outputId": "c2843ddf-f0d7-4001-e960-602e8254af5f"
      },
      "execution_count": 41,
      "outputs": [
        {
          "output_type": "execute_result",
          "data": {
            "text/plain": [
              "{'B': [13, 14, 2, 15, 9],\n",
              " 'I': [27, 17, 19, 24, 29],\n",
              " 'N': [40, 39, 33, 42, 32],\n",
              " 'G': [54, 55, 56, 58, 49],\n",
              " 'O': [71, 73, 67, 61, 72]}"
            ]
          },
          "metadata": {},
          "execution_count": 41
        }
      ]
    },
    {
      "cell_type": "markdown",
      "source": [
        "2. Let the total of 40 random Bingo Numbers Callouts generate!<br>\n",
        " By running the callout function that has already been defined on the **Bingo Number Callout System**<br> Enter your name and let the game start. Don't forget to daub the numbers."
      ],
      "metadata": {
        "id": "T9Rroa2zBfbS"
      }
    },
    {
      "cell_type": "code",
      "source": [
        "import time\n",
        "\n",
        "input(\"Name: \")\n",
        "time.sleep(0.5)\n",
        "\n",
        "\n",
        "print('')\n",
        "print(\"Game Start!\")\n",
        "time.sleep(1)\n",
        "\n",
        "\n",
        "print('')\n",
        "#number callout\n",
        "called = []                               #empty 'called' list\n",
        "for i in range(40):                       #make a total 40 callout (changable)\n",
        "  called_number, formatted_callout = callout(called)\n",
        "  print(formatted_callout)\n",
        "  time.sleep(2)                           #to make the number callout one-by-one with a 2 seconds delay\n",
        "\n",
        "\n",
        "print('')\n",
        "print(\"Game is Over.\")\n",
        "time.sleep(1)\n",
        "\n",
        "\n",
        "print('')\n",
        "called.sort()\n",
        "print(\"Your called numbers:\", called)     #make a sorted list of the numbers in called"
      ],
      "metadata": {
        "id": "AAdWPdMxrwaX",
        "colab": {
          "base_uri": "https://localhost:8080/"
        },
        "outputId": "568e52c3-7a6e-4d91-b773-aea8e5ce7599"
      },
      "execution_count": 42,
      "outputs": [
        {
          "output_type": "stream",
          "name": "stdout",
          "text": [
            "Name: Una\n",
            "\n",
            "Game Start!\n",
            "\n",
            "I 18\n",
            "B 2\n",
            "O 70\n",
            "I 29\n",
            "B 6\n",
            "O 72\n",
            "I 25\n",
            "B 4\n",
            "G 49\n",
            "G 54\n",
            "O 64\n",
            "I 21\n",
            "N 42\n",
            "N 44\n",
            "G 52\n",
            "O 68\n",
            "I 23\n",
            "O 71\n",
            "B 15\n",
            "G 59\n",
            "N 32\n",
            "B 13\n",
            "I 24\n",
            "I 17\n",
            "I 19\n",
            "I 26\n",
            "B 7\n",
            "G 56\n",
            "I 22\n",
            "O 61\n",
            "I 16\n",
            "B 14\n",
            "G 48\n",
            "G 51\n",
            "O 75\n",
            "B 8\n",
            "N 45\n",
            "N 38\n",
            "B 1\n",
            "G 50\n",
            "\n",
            "Game is Over.\n",
            "\n",
            "Your called numbers: [1, 2, 4, 6, 7, 8, 13, 14, 15, 16, 17, 18, 19, 21, 22, 23, 24, 25, 26, 29, 32, 38, 42, 44, 45, 48, 49, 50, 51, 52, 54, 56, 59, 61, 64, 68, 70, 71, 72, 75]\n"
          ]
        }
      ]
    },
    {
      "cell_type": "markdown",
      "source": [
        "And you're done playing bingo!"
      ],
      "metadata": {
        "id": "koh3NIkpp3Rb"
      }
    },
    {
      "cell_type": "markdown",
      "source": [
        "**Bingo Card Check**<br> Definitely an option if you only want to play by just running the cells. But as far, it can only identifies the column bingo, meaning that if the numbers in B, I, N, G, O, is called in the callout, you will get a bingo."
      ],
      "metadata": {
        "id": "egl_o_xxsdSs"
      }
    },
    {
      "cell_type": "code",
      "source": [
        "#retrieving the data from card\n",
        "B = card.get(\"B\", [])\n",
        "I = card.get(\"I\", [])\n",
        "N = card.get(\"N\", [])\n",
        "G = card.get(\"G\", [])\n",
        "O = card.get(\"O\", [])\n",
        "\n",
        "def check_bingo(called):\n",
        "  bingo = False\n",
        "  for number in called:   #referring to the number that is in 'called' list\n",
        "   if number in B:\n",
        "     B.remove(number)     #removes the number in B when it is 'called' list\n",
        "   if number in I:\n",
        "     I.remove(number)\n",
        "   if number in N:\n",
        "     N.remove(number)\n",
        "   if number in G:\n",
        "     G.remove(number)\n",
        "   if number in O:\n",
        "     O.remove(number)\n",
        "\n",
        "  # Indented the following block within the function\n",
        "  if not B or not I or not N or not G or not O:\n",
        "    print(\"\\033[1mBingo!\\nCongratulations!!\")\n",
        "    bingo = True  # Set bingo to True when there's a bingo\n",
        "  else:\n",
        "    print(\"\\033[1mYou lose.\\nTry Again!\")\n",
        "    bingo = False  # Set bingo to False when there's no bingo\n",
        "\n",
        "  return bingo  # Return the bingo status\n",
        "\n",
        "_=check_bingo(called)"
      ],
      "metadata": {
        "id": "sgTPL5KBF_VD",
        "colab": {
          "base_uri": "https://localhost:8080/"
        },
        "collapsed": true,
        "outputId": "1aa6aafe-9817-4bea-a5ed-abaf7bde220b"
      },
      "execution_count": 44,
      "outputs": [
        {
          "output_type": "stream",
          "name": "stdout",
          "text": [
            "\u001b[1mYou lose.\n",
            "Try Again!\n"
          ]
        }
      ]
    }
  ]
}